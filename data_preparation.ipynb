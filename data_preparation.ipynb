{
 "cells": [
  {
   "cell_type": "markdown",
   "id": "93442f98",
   "metadata": {},
   "source": [
    "# Data Preparation - \n",
    "* Study the data and different columns.\n",
    "* Filter the reviews based on overall rating.\n",
    "* Create train and test data using the filtered data."
   ]
  },
  {
   "cell_type": "code",
   "execution_count": 1,
   "id": "48082072",
   "metadata": {},
   "outputs": [],
   "source": [
    "import ndjson\n",
    "import pandas as pd\n",
    "import numpy as np\n",
    "import seaborn as sns"
   ]
  },
  {
   "cell_type": "code",
   "execution_count": 2,
   "id": "dcec587c",
   "metadata": {},
   "outputs": [],
   "source": [
    "# reading reviews from json file\n",
    "with open('data/Video_Games_5.json') as f:\n",
    "    data = ndjson.load(f)"
   ]
  },
  {
   "cell_type": "code",
   "execution_count": 3,
   "id": "e3841f41",
   "metadata": {},
   "outputs": [],
   "source": [
    "reviews_df = pd.DataFrame(data)"
   ]
  },
  {
   "cell_type": "code",
   "execution_count": 4,
   "id": "39da10c1",
   "metadata": {},
   "outputs": [
    {
     "data": {
      "text/html": [
       "<div>\n",
       "<style scoped>\n",
       "    .dataframe tbody tr th:only-of-type {\n",
       "        vertical-align: middle;\n",
       "    }\n",
       "\n",
       "    .dataframe tbody tr th {\n",
       "        vertical-align: top;\n",
       "    }\n",
       "\n",
       "    .dataframe thead th {\n",
       "        text-align: right;\n",
       "    }\n",
       "</style>\n",
       "<table border=\"1\" class=\"dataframe\">\n",
       "  <thead>\n",
       "    <tr style=\"text-align: right;\">\n",
       "      <th></th>\n",
       "      <th>overall</th>\n",
       "      <th>verified</th>\n",
       "      <th>reviewTime</th>\n",
       "      <th>reviewerID</th>\n",
       "      <th>asin</th>\n",
       "      <th>reviewerName</th>\n",
       "      <th>reviewText</th>\n",
       "      <th>summary</th>\n",
       "      <th>unixReviewTime</th>\n",
       "      <th>vote</th>\n",
       "      <th>style</th>\n",
       "      <th>image</th>\n",
       "    </tr>\n",
       "  </thead>\n",
       "  <tbody>\n",
       "    <tr>\n",
       "      <th>0</th>\n",
       "      <td>5.0</td>\n",
       "      <td>True</td>\n",
       "      <td>10 17, 2015</td>\n",
       "      <td>A1HP7NVNPFMA4N</td>\n",
       "      <td>0700026657</td>\n",
       "      <td>Ambrosia075</td>\n",
       "      <td>This game is a bit hard to get the hang of, bu...</td>\n",
       "      <td>but when you do it's great.</td>\n",
       "      <td>1445040000</td>\n",
       "      <td>NaN</td>\n",
       "      <td>NaN</td>\n",
       "      <td>NaN</td>\n",
       "    </tr>\n",
       "    <tr>\n",
       "      <th>1</th>\n",
       "      <td>4.0</td>\n",
       "      <td>False</td>\n",
       "      <td>07 27, 2015</td>\n",
       "      <td>A1JGAP0185YJI6</td>\n",
       "      <td>0700026657</td>\n",
       "      <td>travis</td>\n",
       "      <td>I played it a while but it was alright. The st...</td>\n",
       "      <td>But in spite of that it was fun, I liked it</td>\n",
       "      <td>1437955200</td>\n",
       "      <td>NaN</td>\n",
       "      <td>NaN</td>\n",
       "      <td>NaN</td>\n",
       "    </tr>\n",
       "    <tr>\n",
       "      <th>2</th>\n",
       "      <td>3.0</td>\n",
       "      <td>True</td>\n",
       "      <td>02 23, 2015</td>\n",
       "      <td>A1YJWEXHQBWK2B</td>\n",
       "      <td>0700026657</td>\n",
       "      <td>Vincent G. Mezera</td>\n",
       "      <td>ok game.</td>\n",
       "      <td>Three Stars</td>\n",
       "      <td>1424649600</td>\n",
       "      <td>NaN</td>\n",
       "      <td>NaN</td>\n",
       "      <td>NaN</td>\n",
       "    </tr>\n",
       "    <tr>\n",
       "      <th>3</th>\n",
       "      <td>2.0</td>\n",
       "      <td>True</td>\n",
       "      <td>02 20, 2015</td>\n",
       "      <td>A2204E1TH211HT</td>\n",
       "      <td>0700026657</td>\n",
       "      <td>Grandma KR</td>\n",
       "      <td>found the game a bit too complicated, not what...</td>\n",
       "      <td>Two Stars</td>\n",
       "      <td>1424390400</td>\n",
       "      <td>NaN</td>\n",
       "      <td>NaN</td>\n",
       "      <td>NaN</td>\n",
       "    </tr>\n",
       "    <tr>\n",
       "      <th>4</th>\n",
       "      <td>5.0</td>\n",
       "      <td>True</td>\n",
       "      <td>12 25, 2014</td>\n",
       "      <td>A2RF5B5H74JLPE</td>\n",
       "      <td>0700026657</td>\n",
       "      <td>jon</td>\n",
       "      <td>great game, I love it and have played it since...</td>\n",
       "      <td>love this game</td>\n",
       "      <td>1419465600</td>\n",
       "      <td>NaN</td>\n",
       "      <td>NaN</td>\n",
       "      <td>NaN</td>\n",
       "    </tr>\n",
       "  </tbody>\n",
       "</table>\n",
       "</div>"
      ],
      "text/plain": [
       "   overall  verified   reviewTime      reviewerID        asin  \\\n",
       "0      5.0      True  10 17, 2015  A1HP7NVNPFMA4N  0700026657   \n",
       "1      4.0     False  07 27, 2015  A1JGAP0185YJI6  0700026657   \n",
       "2      3.0      True  02 23, 2015  A1YJWEXHQBWK2B  0700026657   \n",
       "3      2.0      True  02 20, 2015  A2204E1TH211HT  0700026657   \n",
       "4      5.0      True  12 25, 2014  A2RF5B5H74JLPE  0700026657   \n",
       "\n",
       "        reviewerName                                         reviewText  \\\n",
       "0        Ambrosia075  This game is a bit hard to get the hang of, bu...   \n",
       "1             travis  I played it a while but it was alright. The st...   \n",
       "2  Vincent G. Mezera                                           ok game.   \n",
       "3         Grandma KR  found the game a bit too complicated, not what...   \n",
       "4                jon  great game, I love it and have played it since...   \n",
       "\n",
       "                                       summary  unixReviewTime vote style  \\\n",
       "0                  but when you do it's great.      1445040000  NaN   NaN   \n",
       "1  But in spite of that it was fun, I liked it      1437955200  NaN   NaN   \n",
       "2                                  Three Stars      1424649600  NaN   NaN   \n",
       "3                                    Two Stars      1424390400  NaN   NaN   \n",
       "4                               love this game      1419465600  NaN   NaN   \n",
       "\n",
       "  image  \n",
       "0   NaN  \n",
       "1   NaN  \n",
       "2   NaN  \n",
       "3   NaN  \n",
       "4   NaN  "
      ]
     },
     "execution_count": 4,
     "metadata": {},
     "output_type": "execute_result"
    }
   ],
   "source": [
    "reviews_df.head()"
   ]
  },
  {
   "cell_type": "markdown",
   "id": "e2606417",
   "metadata": {},
   "source": [
    "### Meaning of each column\n",
    "* reviewerID - ID of the reviewer, e.g. A2SUAM1J3GNN3B\n",
    "* asin - ID of the product, e.g. 0000013714\n",
    "* reviewerName - name of the reviewer\n",
    "* vote - helpful votes of the review\n",
    "* style - a disctionary of the product metadata, e.g., \"Format\" is \"Hardcover\"\n",
    "* reviewText - text of the review\n",
    "* overall - rating of the product\n",
    "* summary - summary of the review\n",
    "* unixReviewTime - time of the review (unix time)\n",
    "* reviewTime - time of the review (raw)\n",
    "* image - images that users post after they have received the product"
   ]
  },
  {
   "cell_type": "code",
   "execution_count": 5,
   "id": "2dd98349",
   "metadata": {},
   "outputs": [
    {
     "data": {
      "text/plain": [
       "(497577, 12)"
      ]
     },
     "execution_count": 5,
     "metadata": {},
     "output_type": "execute_result"
    }
   ],
   "source": [
    "reviews_df.shape"
   ]
  },
  {
   "cell_type": "code",
   "execution_count": 6,
   "id": "dca12f65",
   "metadata": {},
   "outputs": [
    {
     "name": "stdout",
     "output_type": "stream",
     "text": [
      "<class 'pandas.core.frame.DataFrame'>\n",
      "RangeIndex: 497577 entries, 0 to 497576\n",
      "Data columns (total 12 columns):\n",
      " #   Column          Non-Null Count   Dtype  \n",
      "---  ------          --------------   -----  \n",
      " 0   overall         497577 non-null  float64\n",
      " 1   verified        497577 non-null  bool   \n",
      " 2   reviewTime      497577 non-null  object \n",
      " 3   reviewerID      497577 non-null  object \n",
      " 4   asin            497577 non-null  object \n",
      " 5   reviewerName    497501 non-null  object \n",
      " 6   reviewText      497419 non-null  object \n",
      " 7   summary         497468 non-null  object \n",
      " 8   unixReviewTime  497577 non-null  int64  \n",
      " 9   vote            107793 non-null  object \n",
      " 10  style           289237 non-null  object \n",
      " 11  image           3634 non-null    object \n",
      "dtypes: bool(1), float64(1), int64(1), object(9)\n",
      "memory usage: 42.2+ MB\n"
     ]
    }
   ],
   "source": [
    "reviews_df.info()"
   ]
  },
  {
   "cell_type": "markdown",
   "id": "8ff22a1d",
   "metadata": {},
   "source": [
    "We will not be using the verified, reviewerTime, reviewerID, vote, style, image, unixReviewTime columns as they are not relevant for the further training process."
   ]
  },
  {
   "cell_type": "code",
   "execution_count": 15,
   "id": "b92f3802",
   "metadata": {},
   "outputs": [],
   "source": [
    "reviews_df = reviews_df.drop(['verified', 'reviewTime', 'reviewerID', 'vote', 'style', 'image', 'unixReviewTime', 'reviewerName'], axis = 1)"
   ]
  },
  {
   "cell_type": "code",
   "execution_count": 17,
   "id": "3f83a33b",
   "metadata": {},
   "outputs": [
    {
     "data": {
      "text/plain": [
       "overall         0\n",
       "asin            0\n",
       "reviewText    158\n",
       "summary       109\n",
       "dtype: int64"
      ]
     },
     "execution_count": 17,
     "metadata": {},
     "output_type": "execute_result"
    }
   ],
   "source": [
    "# Checking for null values\n",
    "reviews_df.isna().sum()"
   ]
  },
  {
   "cell_type": "code",
   "execution_count": 19,
   "id": "476e7d2c",
   "metadata": {},
   "outputs": [],
   "source": [
    "reviews_df = reviews_df.dropna()"
   ]
  },
  {
   "cell_type": "code",
   "execution_count": 20,
   "id": "68cd08d5",
   "metadata": {},
   "outputs": [
    {
     "data": {
      "text/plain": [
       "(497316, 4)"
      ]
     },
     "execution_count": 20,
     "metadata": {},
     "output_type": "execute_result"
    }
   ],
   "source": [
    "reviews_df.shape"
   ]
  },
  {
   "cell_type": "code",
   "execution_count": 21,
   "id": "dfdbcfd8",
   "metadata": {},
   "outputs": [
    {
     "data": {
      "text/plain": [
       "<Axes: xlabel='overall', ylabel='count'>"
      ]
     },
     "execution_count": 21,
     "metadata": {},
     "output_type": "execute_result"
    },
    {
     "data": {
      "image/png": "[encoded data removed]",
      "text/plain": [
       "<Figure size 640x480 with 1 Axes>"
      ]
     },
     "metadata": {},
     "output_type": "display_data"
    }
   ],
   "source": [
    "sns.countplot(data = reviews_df, x='overall')"
   ]
  },
  {
   "cell_type": "code",
   "execution_count": 22,
   "id": "e0515056",
   "metadata": {},
   "outputs": [
    {
     "data": {
      "text/plain": [
       "17408"
      ]
     },
     "execution_count": 22,
     "metadata": {},
     "output_type": "execute_result"
    }
   ],
   "source": [
    "len(reviews_df['asin'].value_counts(dropna=False))"
   ]
  },
  {
   "cell_type": "markdown",
   "id": "aac8e728",
   "metadata": {},
   "source": [
    "There are 17408 different products"
   ]
  },
  {
   "cell_type": "code",
   "execution_count": 23,
   "id": "72c95db4",
   "metadata": {},
   "outputs": [
    {
     "data": {
      "text/plain": [
       "overall\n",
       "5.0    299541\n",
       "4.0     93636\n",
       "3.0     49138\n",
       "1.0     30872\n",
       "2.0     24129\n",
       "Name: count, dtype: int64"
      ]
     },
     "execution_count": 23,
     "metadata": {},
     "output_type": "execute_result"
    }
   ],
   "source": [
    "reviews_df['overall'].value_counts(dropna=False)"
   ]
  },
  {
   "cell_type": "markdown",
   "id": "fa5fb665",
   "metadata": {},
   "source": [
    "All the reviews with overall rating '1' are considered as negative, and all the reviews with overall rating '5' are considered as positive. Further analysis can be done by considering neutral reviews as well. But for this task, we will only select reviews with rating '1' or '5'"
   ]
  },
  {
   "cell_type": "code",
   "execution_count": 25,
   "id": "d9b34eaa",
   "metadata": {},
   "outputs": [],
   "source": [
    "one = reviews_df[reviews_df['overall']==1.0].sample(n=2000)\n",
    "# two = reviews_df[reviews_df['overall']==2.0].sample(n=500)\n",
    "# three = reviews_df[reviews_df['overall']==3.0].sample(n=500)\n",
    "# four = reviews_df[reviews_df['overall']==4.0].sample(n=500)\n",
    "five = reviews_df[reviews_df['overall']==5.0].sample(n=2000)"
   ]
  },
  {
   "cell_type": "code",
   "execution_count": 27,
   "id": "b30d3bea",
   "metadata": {},
   "outputs": [],
   "source": [
    "reviews = pd.concat([one, five], axis=0)\n",
    "# reviews = pd.concat([one, two, three, four, five], axis=0)"
   ]
  },
  {
   "cell_type": "code",
   "execution_count": 28,
   "id": "fac0b13a",
   "metadata": {},
   "outputs": [
    {
     "data": {
      "text/html": [
       "<div>\n",
       "<style scoped>\n",
       "    .dataframe tbody tr th:only-of-type {\n",
       "        vertical-align: middle;\n",
       "    }\n",
       "\n",
       "    .dataframe tbody tr th {\n",
       "        vertical-align: top;\n",
       "    }\n",
       "\n",
       "    .dataframe thead th {\n",
       "        text-align: right;\n",
       "    }\n",
       "</style>\n",
       "<table border=\"1\" class=\"dataframe\">\n",
       "  <thead>\n",
       "    <tr style=\"text-align: right;\">\n",
       "      <th></th>\n",
       "      <th>overall</th>\n",
       "      <th>asin</th>\n",
       "      <th>reviewText</th>\n",
       "      <th>summary</th>\n",
       "    </tr>\n",
       "  </thead>\n",
       "  <tbody>\n",
       "    <tr>\n",
       "      <th>133257</th>\n",
       "      <td>1.0</td>\n",
       "      <td>B00149MEVY</td>\n",
       "      <td>Terrible game compared to Silent Hill as a who...</td>\n",
       "      <td>Terrible game compared to Silent Hill as a whole</td>\n",
       "    </tr>\n",
       "    <tr>\n",
       "      <th>16410</th>\n",
       "      <td>1.0</td>\n",
       "      <td>B00004TTHT</td>\n",
       "      <td>Stuttering graphics, severe slowing during act...</td>\n",
       "      <td>..........Another Sierra flop.</td>\n",
       "    </tr>\n",
       "    <tr>\n",
       "      <th>220540</th>\n",
       "      <td>1.0</td>\n",
       "      <td>B003ZULWQI</td>\n",
       "      <td>I just bought this and RAGE, both for like 6 b...</td>\n",
       "      <td>Terrible OLD graphics - waste of 7 bucks</td>\n",
       "    </tr>\n",
       "    <tr>\n",
       "      <th>297998</th>\n",
       "      <td>1.0</td>\n",
       "      <td>B00C27SCC2</td>\n",
       "      <td>Nothing about this game says PS4. The graphics...</td>\n",
       "      <td>WHAT A DISAPPOINTMENT</td>\n",
       "    </tr>\n",
       "    <tr>\n",
       "      <th>303256</th>\n",
       "      <td>1.0</td>\n",
       "      <td>B00CMQTVUA</td>\n",
       "      <td>Seems like they rushed this system I don't und...</td>\n",
       "      <td>Horrible ps4 better</td>\n",
       "    </tr>\n",
       "  </tbody>\n",
       "</table>\n",
       "</div>"
      ],
      "text/plain": [
       "        overall        asin  \\\n",
       "133257      1.0  B00149MEVY   \n",
       "16410       1.0  B00004TTHT   \n",
       "220540      1.0  B003ZULWQI   \n",
       "297998      1.0  B00C27SCC2   \n",
       "303256      1.0  B00CMQTVUA   \n",
       "\n",
       "                                               reviewText  \\\n",
       "133257  Terrible game compared to Silent Hill as a who...   \n",
       "16410   Stuttering graphics, severe slowing during act...   \n",
       "220540  I just bought this and RAGE, both for like 6 b...   \n",
       "297998  Nothing about this game says PS4. The graphics...   \n",
       "303256  Seems like they rushed this system I don't und...   \n",
       "\n",
       "                                                 summary  \n",
       "133257  Terrible game compared to Silent Hill as a whole  \n",
       "16410                     ..........Another Sierra flop.  \n",
       "220540          Terrible OLD graphics - waste of 7 bucks  \n",
       "297998                             WHAT A DISAPPOINTMENT  \n",
       "303256                               Horrible ps4 better  "
      ]
     },
     "execution_count": 28,
     "metadata": {},
     "output_type": "execute_result"
    }
   ],
   "source": [
    "reviews.head()"
   ]
  },
  {
   "cell_type": "code",
   "execution_count": 29,
   "id": "67a52d22",
   "metadata": {},
   "outputs": [],
   "source": [
    "reviews.to_csv(\"data/small_balanced_corpus.csv\", index=False)"
   ]
  },
  {
   "cell_type": "code",
   "execution_count": 30,
   "id": "d1d5b700",
   "metadata": {},
   "outputs": [],
   "source": [
    "# We can also create a bigger corpus to get better results. But we will stick to the smaller corpus for now.\n",
    "\n",
    "# sample_100K_revs = reviews_df.groupby('overall', group_keys=False).apply(lambda x: x.sample(frac=0.201))\n",
    "# sample_100K_revs.to_csv(\"data/big_balanced_corpus.csv\", index=False)"
   ]
  },
  {
   "cell_type": "code",
   "execution_count": null,
   "id": "67635b1d",
   "metadata": {},
   "outputs": [],
   "source": []
  }
 ],
 "metadata": {
  "kernelspec": {
   "display_name": ".venv",
   "language": "python",
   "name": ".venv"
  },
  "language_info": {
   "codemirror_mode": {
    "name": "ipython",
    "version": 3
   },
   "file_extension": ".py",
   "mimetype": "text/x-python",
   "name": "python",
   "nbconvert_exporter": "python",
   "pygments_lexer": "ipython3",
   "version": "3.12.4"
  }
 },
 "nbformat": 4,
 "nbformat_minor": 5
}
